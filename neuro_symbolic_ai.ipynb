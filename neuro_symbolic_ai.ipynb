{
  "nbformat": 4,
  "nbformat_minor": 0,
  "metadata": {
    "colab": {
      "provenance": [],
      "authorship_tag": "ABX9TyMkP9Ys23PZz3hXkDqgP8Fv",
      "include_colab_link": true
    },
    "kernelspec": {
      "name": "python3",
      "display_name": "Python 3"
    },
    "language_info": {
      "name": "python"
    }
  },
  "cells": [
    {
      "cell_type": "markdown",
      "metadata": {
        "id": "view-in-github",
        "colab_type": "text"
      },
      "source": [
        "<a href=\"https://colab.research.google.com/github/MysticKrameNine/AI-Pacman/blob/master/neuro_symbolic_ai.ipynb\" target=\"_parent\"><img src=\"https://colab.research.google.com/assets/colab-badge.svg\" alt=\"Open In Colab\"/></a>"
      ]
    },
    {
      "cell_type": "code",
      "execution_count": 26,
      "metadata": {
        "id": "C2RnDOkT3gV-"
      },
      "outputs": [],
      "source": [
        "import torch\n",
        "import torch.nn as nn\n",
        "import numpy as np\n",
        "import matplotlib.pyplot as plt\n",
        "import time\n",
        "\n"
      ]
    },
    {
      "cell_type": "code",
      "source": [
        "n = np.linspace(0,1,5)\n",
        "t = torch.linspace(0,1,5)"
      ],
      "metadata": {
        "id": "UwfNmCTB5iYU"
      },
      "execution_count": 27,
      "outputs": []
    },
    {
      "cell_type": "code",
      "source": [
        "n = np.arange(48).reshape(3,4,4)\n",
        "t = torch.arange(48).reshape(3,4,4)"
      ],
      "metadata": {
        "id": "IkC86y8q5m5F"
      },
      "execution_count": 28,
      "outputs": []
    },
    {
      "cell_type": "code",
      "source": [
        "a = np.ones((6,5))\n",
        "b = np.arange(5).reshape((1,5))"
      ],
      "metadata": {
        "id": "hLTp9wCi5pIX"
      },
      "execution_count": 29,
      "outputs": []
    },
    {
      "cell_type": "code",
      "source": [
        "a+b\n"
      ],
      "metadata": {
        "colab": {
          "base_uri": "https://localhost:8080/"
        },
        "id": "gl2id7hO5rFW",
        "outputId": "8512d68c-6a06-4e02-ebdb-f37f00bfe8b1"
      },
      "execution_count": 30,
      "outputs": [
        {
          "output_type": "execute_result",
          "data": {
            "text/plain": [
              "array([[1., 2., 3., 4., 5.],\n",
              "       [1., 2., 3., 4., 5.],\n",
              "       [1., 2., 3., 4., 5.],\n",
              "       [1., 2., 3., 4., 5.],\n",
              "       [1., 2., 3., 4., 5.],\n",
              "       [1., 2., 3., 4., 5.]])"
            ]
          },
          "metadata": {},
          "execution_count": 30
        }
      ]
    },
    {
      "cell_type": "code",
      "source": [
        "a = torch.ones((6,5))\n",
        "b = torch.arange(5).reshape((1,5))"
      ],
      "metadata": {
        "id": "28bTnA-P5u5h"
      },
      "execution_count": 31,
      "outputs": []
    },
    {
      "cell_type": "code",
      "source": [
        "Image = torch.randn((256,256,3))\n",
        "Scale = torch.tensor([0.5,1.5,1])"
      ],
      "metadata": {
        "id": "VEXaGiu95yHq"
      },
      "execution_count": 32,
      "outputs": []
    },
    {
      "cell_type": "code",
      "source": [
        "Result = Image*Scale"
      ],
      "metadata": {
        "id": "V89b6G1k5zgY"
      },
      "execution_count": 33,
      "outputs": []
    },
    {
      "cell_type": "code",
      "source": [
        "Images = torch.randn((2,256,256,3))\n",
        "Scales = torch.tensor([0.5,1.5,1,1.5,1,0.5]).reshape((2,1,1,3))"
      ],
      "metadata": {
        "id": "SGbvceNM51WY"
      },
      "execution_count": 34,
      "outputs": []
    },
    {
      "cell_type": "code",
      "source": [],
      "metadata": {
        "id": "3ZS3snQm6GbO"
      },
      "execution_count": 34,
      "outputs": []
    },
    {
      "cell_type": "code",
      "source": [
        "t = torch.tensor([0.5,1,3,4])\n",
        "torch.mean(t), torch.std(t), torch.max(t), torch.min(t)"
      ],
      "metadata": {
        "colab": {
          "base_uri": "https://localhost:8080/"
        },
        "id": "joasJBHR51Xh",
        "outputId": "05109d7d-e5d8-476d-f638-01a86aa5a194"
      },
      "execution_count": 35,
      "outputs": [
        {
          "output_type": "execute_result",
          "data": {
            "text/plain": [
              "(tensor(2.1250), tensor(1.6520), tensor(4.), tensor(0.5000))"
            ]
          },
          "metadata": {},
          "execution_count": 35
        }
      ]
    },
    {
      "cell_type": "code",
      "source": [
        "t = torch.arange(20, dtype=float).reshape(5,4)"
      ],
      "metadata": {
        "id": "siqRDL6_59Io"
      },
      "execution_count": 36,
      "outputs": []
    },
    {
      "cell_type": "code",
      "source": [
        "t = torch.arange(20, dtype=float).reshape(5,4)\n",
        "torch.mean(t, axis=0)"
      ],
      "metadata": {
        "colab": {
          "base_uri": "https://localhost:8080/"
        },
        "id": "koZs4Q0s5-z8",
        "outputId": "9aaa987d-78b2-4a2c-c957-13e760c210ec"
      },
      "execution_count": 37,
      "outputs": [
        {
          "output_type": "execute_result",
          "data": {
            "text/plain": [
              "tensor([ 8.,  9., 10., 11.], dtype=torch.float64)"
            ]
          },
          "metadata": {},
          "execution_count": 37
        }
      ]
    },
    {
      "cell_type": "code",
      "source": [
        "t = torch.randn(5,256,256,3)"
      ],
      "metadata": {
        "id": "10f9QDWl5-1Y"
      },
      "execution_count": 38,
      "outputs": []
    },
    {
      "cell_type": "code",
      "source": [
        "torch.mean(t,axis=0).shape"
      ],
      "metadata": {
        "colab": {
          "base_uri": "https://localhost:8080/"
        },
        "id": "VJC8rFY_6C8F",
        "outputId": "933351ae-35bb-4d07-d173-4c8297cdf423"
      },
      "execution_count": 39,
      "outputs": [
        {
          "output_type": "execute_result",
          "data": {
            "text/plain": [
              "torch.Size([256, 256, 3])"
            ]
          },
          "metadata": {},
          "execution_count": 39
        }
      ]
    },
    {
      "cell_type": "code",
      "source": [
        "values, indices = torch.max(t,axis=-1)"
      ],
      "metadata": {
        "id": "RXuXwiAT6ERb"
      },
      "execution_count": 40,
      "outputs": []
    },
    {
      "cell_type": "code",
      "source": [
        "x = torch.tensor([[5.,8.],[4.,6.]], requires_grad=True)"
      ],
      "metadata": {
        "id": "5z3eqc3F6KIT"
      },
      "execution_count": 41,
      "outputs": []
    },
    {
      "cell_type": "code",
      "source": [
        "x = torch.tensor([[5.,8.],[4.,6.]], requires_grad=True)\n",
        "y = x.pow(3).sum()\n",
        "y"
      ],
      "metadata": {
        "colab": {
          "base_uri": "https://localhost:8080/"
        },
        "id": "wLESthae6L38",
        "outputId": "250cefd2-75e3-42cf-af14-4d93404ea382"
      },
      "execution_count": 42,
      "outputs": [
        {
          "output_type": "execute_result",
          "data": {
            "text/plain": [
              "tensor(917., grad_fn=<SumBackward0>)"
            ]
          },
          "metadata": {},
          "execution_count": 42
        }
      ]
    },
    {
      "cell_type": "code",
      "source": [
        "y.backward() #compute the gradient\n",
        "x.grad #print the gradient (everything that has happened to x)"
      ],
      "metadata": {
        "colab": {
          "base_uri": "https://localhost:8080/"
        },
        "id": "rdFEdJk26P5X",
        "outputId": "c0e9f133-4aab-44f0-8193-ab52042b35b4"
      },
      "execution_count": 43,
      "outputs": [
        {
          "output_type": "execute_result",
          "data": {
            "text/plain": [
              "tensor([[ 75., 192.],\n",
              "        [ 48., 108.]])"
            ]
          },
          "metadata": {},
          "execution_count": 43
        }
      ]
    },
    {
      "cell_type": "code",
      "source": [
        "3*x**2"
      ],
      "metadata": {
        "colab": {
          "base_uri": "https://localhost:8080/"
        },
        "id": "CmFSUTKu6RZk",
        "outputId": "9cb7dff5-3230-474f-85be-1b87cbaf13ee"
      },
      "execution_count": 44,
      "outputs": [
        {
          "output_type": "execute_result",
          "data": {
            "text/plain": [
              "tensor([[ 75., 192.],\n",
              "        [ 48., 108.]], grad_fn=<MulBackward0>)"
            ]
          },
          "metadata": {},
          "execution_count": 44
        }
      ]
    },
    {
      "cell_type": "code",
      "source": [
        "A = torch.randn((1000,1000))\n",
        "B = torch.randn((1000,1000))"
      ],
      "metadata": {
        "id": "y_ng1PIm6Tal"
      },
      "execution_count": 45,
      "outputs": []
    },
    {
      "cell_type": "code",
      "source": [
        "t1 = time.perf_counter()\n",
        "torch.matmul(A,B)\n",
        "t2 = time.perf_counter()\n",
        "print(t2-t1)"
      ],
      "metadata": {
        "colab": {
          "base_uri": "https://localhost:8080/"
        },
        "id": "Yf-E9w2p6Utp",
        "outputId": "482b9501-6e43-4c2c-cc99-eec82226e40b"
      },
      "execution_count": 46,
      "outputs": [
        {
          "output_type": "stream",
          "name": "stdout",
          "text": [
            "0.03999166100004459\n"
          ]
        }
      ]
    },
    {
      "cell_type": "code",
      "source": [
        "A = np.random.randn(int(1e6)).reshape((1000,1000))\n",
        "B = np.random.randn(int(1e6)).reshape((1000,1000))"
      ],
      "metadata": {
        "id": "F5swiP3M6WnQ"
      },
      "execution_count": 47,
      "outputs": []
    },
    {
      "cell_type": "code",
      "source": [
        "t1 = time.perf_counter()\n",
        "A@B\n",
        "t2 = time.perf_counter()\n",
        "print(t2-t1)"
      ],
      "metadata": {
        "colab": {
          "base_uri": "https://localhost:8080/"
        },
        "id": "ZpMdVbJz6Y6g",
        "outputId": "4f5a829f-7a3a-48e2-9d8e-2c93c30e4cb5"
      },
      "execution_count": 48,
      "outputs": [
        {
          "output_type": "stream",
          "name": "stdout",
          "text": [
            "0.07139284000004409\n"
          ]
        }
      ]
    }
  ]
}